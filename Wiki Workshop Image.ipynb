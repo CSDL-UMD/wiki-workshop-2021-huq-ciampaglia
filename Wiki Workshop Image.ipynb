{
 "cells": [
  {
   "cell_type": "code",
   "execution_count": 1,
   "metadata": {},
   "outputs": [],
   "source": [
    "import pandas as pd\n",
    "import scipy as sp\n",
    "from scipy.stats import rankdata\n",
    "\n",
    "import matplotlib.pyplot as plt\n",
    "from sklearn.mixture import GaussianMixture as GMM\n",
    "from sklearn.mixture import BayesianGaussianMixture as BGM\n",
    "import numpy as np\n",
    "import json\n",
    "import networkx as nx\n",
    "from scipy.stats import kendalltau, spearmanr, pearsonr\n",
    "import community\n",
    "from sklearn.cluster import KMeans\n",
    "from matplotlib.pyplot import cm\n",
    "from sklearn.decomposition import PCA\n",
    "from pandas.plotting import scatter_matrix\n",
    "from datetime import datetime\n",
    "import matplotlib\n",
    "from tqdm import notebook as nb\n",
    "\n",
    "from surprise import Dataset, Reader, SVD,accuracy\n",
    "import pandas as pd\n",
    "import scipy as sp\n",
    "from scipy.stats import rankdata\n",
    "\n",
    "from scipy.sparse import csr_matrix\n",
    "from scipy import spatial\n",
    "\n",
    "from sklearn.metrics import r2_score,explained_variance_score\n",
    "import os\n",
    "import pickle as pk\n",
    "from pandas.api.types import CategoricalDtype\n",
    "from sklearn.metrics.pairwise import cosine_similarity\n",
    "from surprise.model_selection import train_test_split\n",
    "from surprise.model_selection import cross_validate\n",
    "from sklearn.model_selection import KFold\n",
    "\n",
    "from sklearn.metrics import classification_report\n",
    "from sklearn.linear_model import LogisticRegression\n",
    "from sklearn.svm import LinearSVC\n",
    "from sklearn.metrics import roc_auc_score\n",
    "from sklearn.metrics import roc_curve, auc\n",
    "from dateutil.relativedelta import relativedelta\n",
    "import seaborn as sns\n",
    "from sklearn.model_selection import train_test_split\n",
    "from sklearn.metrics import plot_roc_curve\n",
    "from matplotlib.dates import DayLocator, HourLocator, DateFormatter, drange, YearLocator\n",
    "import pickle\n"
   ]
  },
  {
   "cell_type": "code",
   "execution_count": 2,
   "metadata": {},
   "outputs": [],
   "source": [
    "plot_width = 3.337\n",
    "plot_height = plot_width / 1.618"
   ]
  },
  {
   "cell_type": "markdown",
   "metadata": {},
   "source": [
    "# Data and Methods"
   ]
  },
  {
   "cell_type": "markdown",
   "metadata": {},
   "source": [
    "## 2.1 Data Collection"
   ]
  },
  {
   "cell_type": "markdown",
   "metadata": {},
   "source": [
    "Figure 1.\n",
    "Frequency of the most typical recommendations (Left) and of the most typical outcomes (Right) in AfD discussions"
   ]
  },
  {
   "cell_type": "code",
   "execution_count": 3,
   "metadata": {},
   "outputs": [
    {
     "name": "stdout",
     "output_type": "stream",
     "text": [
      "Loading dataset votes_df.csv...\n",
      "\n",
      "Filtering dataset...\n",
      "\n"
     ]
    },
    {
     "data": {
      "application/vnd.jupyter.widget-view+json": {
       "model_id": "5a59dcefd0f04121a7e89e52c0d16a6f",
       "version_major": 2,
       "version_minor": 0
      },
      "text/plain": [
       "HBox(children=(FloatProgress(value=0.0, max=94355.0), HTML(value='')))"
      ]
     },
     "metadata": {},
     "output_type": "display_data"
    },
    {
     "name": "stdout",
     "output_type": "stream",
     "text": [
      "\n",
      "Number of Voters:  20153 \n",
      "\n",
      "Number of AfD discussions/articles:  355505 \n",
      "\n",
      "Number of recommendations::  1495963 \n",
      "\n",
      "Loading dataset outcomes_df.csv...\n",
      "\n"
     ]
    },
    {
     "data": {
      "image/png": "[encoded data removed]",
      "text/plain": [
       "<Figure size 240.264x148.494 with 2 Axes>"
      ]
     },
     "metadata": {
      "needs_background": "light"
     },
     "output_type": "display_data"
    }
   ],
   "source": [
    "#Loading Data\n",
    "print(\"Loading dataset votes_df.csv...\\n\")\n",
    "\n",
    "vote = pd.read_csv('csv_files/data_CMU/votes_df.csv', index_col=False)\n",
    "vote_df=vote[['vote_id','discussion_id','timestamp','user_id','label']]\n",
    "\n",
    "vote_df= vote_df[vote_df['label'].isin(['keep','delete','merge','redirect'])]\n",
    "\n",
    "vote_df.drop(vote_df[vote_df['timestamp']==-1].index, inplace=True)\n",
    "\n",
    "#Filtering \n",
    "print(\"Filtering dataset...\\n\")\n",
    "vote_df_filter = []\n",
    "for n,grp in nb.tqdm(vote_df.groupby('user_id')):\n",
    "    if grp['discussion_id'].count() >=5 :\n",
    "        vote_df_filter.append(n)\n",
    "vote_df2= vote_df[vote_df['user_id'].isin(vote_df_filter)]\n",
    "\n",
    "print(\"Number of Voters: \",len(vote_df_filter),\"\\n\")\n",
    "print(\"Number of AfD discussions/articles: \",len(vote_df2['discussion_id'].unique()),\"\\n\")\n",
    "print(\"Number of recommendations:: \",len(vote_df2['vote_id'].unique()),\"\\n\")\n",
    "\n",
    "\n",
    "\n",
    "vote_df_frac=vote_df2.groupby('label').count().reset_index('label')\n",
    "\n",
    "print(\"Loading dataset outcomes_df.csv...\\n\")\n",
    "\n",
    "df_outcome= pd.read_csv('Data_Wiki_Workshop/pandas_afd/outcomes_df.csv', index_col=False)\n",
    "\n",
    "df_outcome2=df_outcome[df_outcome['label'].isin(['delete','delete speedy','keep','keep speedy','no-consensus'])]\n",
    "\n",
    "\n",
    "df_outcome2.head()\n",
    "outcome_df_frac = df_outcome2['label'].value_counts().head(9)\n",
    "\n",
    "\n",
    "#Plot\n",
    "plt.rc('font',size=8)\n",
    "# plt.rc('text', usetex=True)\n",
    "plt.rc('xtick', labelsize=8)\n",
    "plt.rc('ytick', labelsize=8)\n",
    "plt.rc('axes', labelsize=8)\n",
    "\n",
    "\n",
    "\n",
    "fig, axes = plt.subplots(nrows=1, ncols=2)\n",
    "fig.subplots_adjust(left=.15, bottom=.05, right=.99, top=.97,wspace = 0.4)\n",
    "\n",
    "vote_df_frac.plot(kind='bar',x='label',y='user_id',\n",
    "                      color = 'grey',\n",
    "                     legend=False, ax=axes[0])\n",
    "outcome_df_frac.plot(kind='bar',x='label',y='discussion_id',\n",
    "                      color = 'grey',\n",
    "                     legend=False,ax=axes[1])\n",
    "ylabels = [\"Frequency\",\"Number of Discussions \"]\n",
    "i=0\n",
    "for axe in axes:\n",
    "    axe.ticklabel_format(axis='y', style='sci', scilimits=(5,5))\n",
    "    axe.tick_params(axis='x', rotation=90)\n",
    "    axe.set_xlabel('')\n",
    "    axe.set_ylabel(ylabels[i])\n",
    "    i +=1\n",
    "    \n",
    "    \n",
    "fig.set_size_inches(plot_width, plot_height)\n",
    "plt.tight_layout()\n",
    "plt.show()"
   ]
  },
  {
   "cell_type": "code",
   "execution_count": 131,
   "metadata": {},
   "outputs": [],
   "source": [
    "fig.savefig('Plot_Wiki_Workshop/Vote_and_Outcome_Distribution.pdf', dpi=150)"
   ]
  },
  {
   "cell_type": "markdown",
   "metadata": {},
   "source": [
    "Figure 2. Complementary cumulative distribution of num-ber of recommendations per user."
   ]
  },
  {
   "cell_type": "code",
   "execution_count": 4,
   "metadata": {},
   "outputs": [
    {
     "name": "stdout",
     "output_type": "stream",
     "text": [
      "Loading dataset data_vote_counts.csv...\n",
      "\n",
      "Calculating CCDF...\n",
      "\n"
     ]
    },
    {
     "data": {
      "image/png": "[encoded data removed]",
      "text/plain": [
       "<Figure size 240.264x148.494 with 1 Axes>"
      ]
     },
     "metadata": {
      "needs_background": "light"
     },
     "output_type": "display_data"
    }
   ],
   "source": [
    "def ccdf_values(data):\n",
    "\n",
    "    ccdf_dict={}\n",
    "    for col in list(data.columns):\n",
    "        values= data[col].sort_values()\n",
    "        rank_data = data[col].sort_values().apply(lambda x: x*-1).rank()\n",
    "        prob= rank_data/rank_data.max()\n",
    "        ccdf_dict[col]=pd.DataFrame({\"values\": values.tolist(), \"rank\" : rank_data ,\"prob\": prob.tolist()})\n",
    "        \n",
    "    #ccdf_data = pd.DataFrame(ccdf_dict)\n",
    "    return ccdf_dict\n",
    "\n",
    "\n",
    "\n",
    "#Loading Data\n",
    "print(\"Loading dataset data_vote_counts.csv...\\n\")\n",
    "user_counts = pd.read_csv('Data_Wiki_Workshop/csv_files/data_vote_counts.csv', index_col=False)\n",
    "\n",
    "user_counts=user_counts.drop(['user_id','alignment_score'], axis=1)\n",
    "\n",
    "user_counts['total']=user_counts.sum(axis=1)\n",
    "\n",
    "#ccdf calculation\n",
    "print(\"Calculating CCDF...\\n\")\n",
    "\n",
    "ccdf_data= ccdf_values(user_counts)\n",
    "\n",
    "#Plot\n",
    "plt.rc('font',size=8)\n",
    "# plt.rc('text', usetex=True)\n",
    "plt.rc('xtick', labelsize=8)\n",
    "plt.rc('ytick', labelsize=8)\n",
    "plt.rc('axes', labelsize=8)\n",
    "\n",
    "fig = plt.figure()\n",
    "ax = plt.axes()\n",
    "fig.subplots_adjust(left=.15, bottom=.05, right=.99, top=.97,wspace = 0.4)\n",
    "\n",
    "\n",
    "for l,ls in zip(list(user_counts.columns),[\"-\",\"--\",\":\",\"-.\",\"-\"]):\n",
    "    ax.plot(ccdf_data[l][\"values\"] +1 ,ccdf_data[l][\"prob\"], label = l, linestyle =ls)\n",
    "\n",
    "\n",
    "# plt.ylim(1e-5, 2)    \n",
    "ax.set_xscale('log')\n",
    "ax.set_yscale('log')\n",
    "\n",
    "ax.set_xlabel('Number of votes')\n",
    "ax.set_ylabel('CCDF')\n",
    "plt.legend(frameon=False, fontsize='small')\n",
    "# plt.rc(\"font\", labelsize=\"small\")\n",
    "\n",
    "# plt.xlim(0.1, 26204)\n",
    "\n",
    "# plt.title(\"Log plots of CCDF for user greater than Total counts 5 \")\n",
    "fig.set_size_inches(plot_width, plot_height)\n",
    "plt.tight_layout()\n",
    "plt.show()"
   ]
  },
  {
   "cell_type": "code",
   "execution_count": 67,
   "metadata": {},
   "outputs": [],
   "source": [
    "fig.savefig('Plot_Wiki_Workshop/CCDF.pdf', dpi=150)"
   ]
  },
  {
   "cell_type": "code",
   "execution_count": null,
   "metadata": {},
   "outputs": [],
   "source": []
  },
  {
   "cell_type": "markdown",
   "metadata": {},
   "source": [
    "## Measurement of Preference"
   ]
  },
  {
   "cell_type": "markdown",
   "metadata": {},
   "source": [
    "Figure 3: Left: Bayessian Gaussian mixture model with 𝑘=4 components. Right: the model was selected using the Bayesian Information Criterion."
   ]
  },
  {
   "cell_type": "code",
   "execution_count": 5,
   "metadata": {},
   "outputs": [
    {
     "data": {
      "image/png": "[encoded data removed]",
      "text/plain": [
       "<Figure size 240.264x148.494 with 2 Axes>"
      ]
     },
     "metadata": {
      "needs_background": "light"
     },
     "output_type": "display_data"
    }
   ],
   "source": [
    "user_counts = pd.read_csv('Data_Wiki_Workshop/csv_files/data_vote_counts.csv', index_col=False)\n",
    "data = user_counts[user_counts.columns[-1:]]\n",
    "\n",
    "\n",
    "with open('Data_Wiki_Workshop/GMM_model_save.pickle', 'rb') as handle:\n",
    "    model_save = pickle.load(handle)\n",
    "\n",
    "with open('Data_Wiki_Workshop/em_lb.pickle', 'rb') as handle:\n",
    "    em_lb = pickle.load(handle)    \n",
    "\n",
    "# color_set = model_save.predict(data)\n",
    "\n",
    "# labels = model_save.predict(data)\n",
    "\n",
    "logprob = model_save.score_samples(data.sort_values(by=data.columns[0]))\n",
    "\n",
    "pdf = np.exp(logprob)\n",
    "responsibilities = model_save.predict_proba(data.sort_values(by=data.columns[0]))\n",
    "\n",
    "pdf_individual = responsibilities * pdf[:, np.newaxis]\n",
    "\n",
    "\n",
    "\n",
    "#Plot\n",
    "plt.rc('font',size=8)\n",
    "# plt.rc('text', usetex=True)\n",
    "plt.rc('xtick', labelsize=8)\n",
    "plt.rc('ytick', labelsize=8)\n",
    "plt.rc('axes', labelsize=8)\n",
    "\n",
    "\n",
    "m = [\"\",\"#7b3294\",  \"#c2a5cf\", \"#a6dba0\",\"#008837\" ]\n",
    "fig, axes = plt.subplots(nrows=1, ncols=2)\n",
    "\n",
    "fig.subplots_adjust(left=.15, bottom=.05, right=.99, top=.97,wspace = 0.0005)\n",
    "\n",
    "r=rankdata(model_save.means_).tolist()\n",
    "n=4\n",
    "  \n",
    "axes[0].hist(data[data.columns[0]].sort_values(),histtype='bar',density=True, alpha =.6,ec='black',color=\"white\" )\n",
    "axes[0].plot(data[data.columns[0]].sort_values(), pdf, '-k')\n",
    "axes[0].plot(data[data.columns[0]].sort_values(), pdf_individual, '--k')\n",
    "\n",
    "for i in range(n):\n",
    "     axes[0].fill_between(data[data.columns[0]].sort_values(), 0,pdf_individual[:,i], facecolor=m[int(r[i])], alpha = 1)\n",
    "\n",
    "axes[0].set(xlabel=\"Probability of Keep\", ylabel = \"Density\" \n",
    "         )  \n",
    "\n",
    "\n",
    "\n",
    "axes[1].plot(range(2,len(em_lb)+2),em_lb)\n",
    "axes[1].set(xlabel=\"Number of Components     \", ylabel=\"BIC\")\n",
    "axes[1].ticklabel_format(axis='y', style='sci', scilimits=(3,3))\n",
    "\n",
    "fig.set_size_inches(plot_width, plot_height)\n",
    "plt.tight_layout()\n",
    "plt.show()"
   ]
  },
  {
   "cell_type": "code",
   "execution_count": 307,
   "metadata": {},
   "outputs": [],
   "source": [
    "fig.savefig('Plot_Wiki_Workshop/Probability_keep_and_BIC.pdf', dpi=150)"
   ]
  },
  {
   "cell_type": "code",
   "execution_count": null,
   "metadata": {},
   "outputs": [],
   "source": []
  },
  {
   "cell_type": "code",
   "execution_count": null,
   "metadata": {},
   "outputs": [],
   "source": []
  },
  {
   "cell_type": "code",
   "execution_count": null,
   "metadata": {},
   "outputs": [],
   "source": []
  },
  {
   "cell_type": "markdown",
   "metadata": {},
   "source": [
    "## Results"
   ]
  },
  {
   "cell_type": "markdown",
   "metadata": {},
   "source": [
    "### Correlation between edge and co-membership "
   ]
  },
  {
   "cell_type": "markdown",
   "metadata": {},
   "source": [
    " Figure 6. Correlation between edge sign / weight and class co-membership for Bayesian Gaussian mixture model (GMM) and network communities (Louvain)"
   ]
  },
  {
   "cell_type": "code",
   "execution_count": 6,
   "metadata": {},
   "outputs": [
    {
     "data": {
      "image/png": "[encoded data removed]",
      "text/plain": [
       "<Figure size 240.264x148.494 with 1 Axes>"
      ]
     },
     "metadata": {
      "needs_background": "light"
     },
     "output_type": "display_data"
    }
   ],
   "source": [
    "data_f= pd.read_csv('Data_Wiki_Workshop/csv_files/Correlations_all.csv', index_col=False)\n",
    "\n",
    "plt.rc('font',size=8)\n",
    "# plt.rc('text', usetex=True)\n",
    "plt.rc('xtick', labelsize=8)\n",
    "plt.rc('ytick', labelsize=8)\n",
    "plt.rc('axes', labelsize=8)\n",
    "\n",
    "fig = plt.figure()\n",
    "fig.subplots_adjust(left=.15, bottom=.05, right=.99, top=.97,wspace = 0.002)\n",
    "\n",
    "plt.plot(data_f['k_list_f'],data_f['corr_list_spe_gau_weight_f'], Label='GMM, Weighted')\n",
    "plt.plot(data_f['k_list_f'],data_f['corr_list_spe_gau_sign_f'], Label='GMM, Signed')\n",
    "\n",
    "plt.plot(data_f['k_list_f'],data_f['corr_list_spe_mod_weight_f'], '--' ,Label='Louvain, Weighted')\n",
    "plt.plot(data_f['k_list_f'],data_f['corr_list_spe_mod_sign_f'], '--' ,Label='Louvain, Signed')\n",
    "plt.xlabel(\"k core\")\n",
    "plt.ylabel(\"Spearman Correlation\")\n",
    "plt.legend(frameon=False, fontsize='small')\n",
    "\n",
    "fig.set_size_inches(plot_width, plot_height)\n",
    "plt.tight_layout()\n",
    "plt.show()"
   ]
  },
  {
   "cell_type": "code",
   "execution_count": 135,
   "metadata": {},
   "outputs": [],
   "source": [
    "fig.savefig('Plot_Wiki_Workshop/Correlation_vs_Kcore.pdf', dpi=150)"
   ]
  },
  {
   "cell_type": "code",
   "execution_count": null,
   "metadata": {},
   "outputs": [],
   "source": []
  },
  {
   "cell_type": "code",
   "execution_count": null,
   "metadata": {},
   "outputs": [],
   "source": []
  },
  {
   "cell_type": "code",
   "execution_count": null,
   "metadata": {},
   "outputs": [],
   "source": []
  },
  {
   "cell_type": "markdown",
   "metadata": {},
   "source": [
    "### K-shell and Cohorts "
   ]
  },
  {
   "cell_type": "markdown",
   "metadata": {},
   "source": [
    "Figure 7: Left: Distribution of 𝑘-shell values for bi-yearly cohorts of editors who started taking part to AfD discussions in the same period. The drop in 𝑘-shell after 2008 suggests that the core of the network is composed of older usersfrom prior cohorts. Right: Cohort size over time. Each dot corresponds to the number of editors who started takingpart to AfD discussion in that year or the following."
   ]
  },
  {
   "cell_type": "code",
   "execution_count": 7,
   "metadata": {},
   "outputs": [
    {
     "data": {
      "application/vnd.jupyter.widget-view+json": {
       "model_id": "b7c929d969444c8db2701dd7faae210c",
       "version_major": 2,
       "version_minor": 0
      },
      "text/plain": [
       "HBox(children=(FloatProgress(value=0.0, max=20153.0), HTML(value='')))"
      ]
     },
     "metadata": {},
     "output_type": "display_data"
    },
    {
     "name": "stdout",
     "output_type": "stream",
     "text": [
      "\n",
      "2005-01-01 00:00:00 2007-01-01 00:00:00\n",
      "2007-01-01 00:00:00 2009-01-01 00:00:00\n",
      "2009-01-01 00:00:00 2011-01-01 00:00:00\n",
      "2011-01-01 00:00:00 2013-01-01 00:00:00\n",
      "2013-01-01 00:00:00 2015-01-01 00:00:00\n",
      "2015-01-01 00:00:00 2017-01-01 00:00:00\n",
      "2017-01-01 00:00:00 2019-01-01 00:00:00\n"
     ]
    },
    {
     "data": {
      "image/png": "[encoded data removed]",
      "text/plain": [
       "<Figure size 240.264x148.494 with 2 Axes>"
      ]
     },
     "metadata": {
      "needs_background": "light"
     },
     "output_type": "display_data"
    }
   ],
   "source": [
    "vote_df2 = pd.read_csv('Data_Wiki_Workshop/csv_files/data_filtered_count_above_5.csv', index_col=False)\n",
    "\n",
    "votes=vote_df2[[\"user_id\",\"timestamp\"]]\n",
    "groups=votes.groupby(\"user_id\")\n",
    "\n",
    "voter_list=[]\n",
    "for i,group in nb.tqdm(groups):\n",
    "    group_sort=group.sort_values(by=\"timestamp\")\n",
    "    voter_list.append(group_sort.iloc[0].tolist())\n",
    "\n",
    "df_voter_list=pd.DataFrame(voter_list)\n",
    "\n",
    "\n",
    "# Take cohorts bi-yearly\n",
    "\n",
    "y = pd.to_datetime(\"2005\")\n",
    "set_group_biyears = []\n",
    "while y < pd.to_datetime(\"2019\"):\n",
    "    print(y, y+ relativedelta(years=2))\n",
    "    g= df_voter_list.loc[(pd.to_datetime(df_voter_list[1], unit=\"s\") >= y) & (pd.to_datetime(df_voter_list[1], unit=\"s\") < y+ relativedelta(years=2)),0].tolist()\n",
    "\n",
    "    set_group_biyears.append(((y,y+ relativedelta(years=2)),g))\n",
    "    y += relativedelta(years=2)\n",
    "\n",
    "\n",
    "\n",
    "\n",
    "# Groups per shell is saved in file K_shell_group.json\n",
    "with open('Data_Wiki_Workshop/json_files/K_shell_group.json') as f:\n",
    "  k_shell_json = json.load(f)\n",
    "\n",
    "\n",
    "\n",
    "\n",
    "# Prepare data\n",
    "set_group_k_shell_biyears_hist = {}\n",
    "len_list = []\n",
    "for t,g in set_group_biyears:\n",
    "\n",
    "    ss=[]\n",
    "    for kk in k_shell_json.keys():\n",
    "\n",
    "        j=pd.DataFrame(k_shell_json[kk]).astype(int)\n",
    "        j=j[j[0].isin(g)]\n",
    "\n",
    "        for jj in range(len(j)):\n",
    "            ss.append(int(kk))\n",
    "\n",
    "    len_list.append(len(ss))\n",
    "    set_group_k_shell_biyears_hist[t]=ss    \n",
    "        \n",
    "\n",
    "# K-shell bi-yearly        \n",
    "\n",
    "df_set_biyear_swplt=[]\n",
    "for kk in set_group_k_shell_biyears_hist.keys():\n",
    "    test_list =set_group_k_shell_biyears_hist[kk]\n",
    "    for tt in test_list:\n",
    "        df_set_biyear_swplt.append([int(tt),str(kk[0]).split(\" \")[0].split(\"-\")[0][-2:] + \"-\" + str(kk[1]).split(\" \")[0].split(\"-\")[0][-2:]])\n",
    "    \n",
    "\n",
    "df_set_swplt=pd.DataFrame(df_set_biyear_swplt, columns=['K shell', 'Year Range'])\n",
    "\n",
    "\n",
    "\n",
    "\n",
    "\n",
    "df_all = pd.read_csv('Data_Wiki_Workshop/csv_files/data_filtered_count_above_5.csv', index_col=False)\n",
    "\n",
    "group=df_all.groupby(by=\"discussion_id\")\n",
    "\n",
    "y = pd.to_datetime(\"2005\")\n",
    "x_labels = []\n",
    "\n",
    "# Take cohort per year\n",
    "num_user = []\n",
    "date_times = []\n",
    "grp_user = []\n",
    "while y < pd.to_datetime(\"2020\"):\n",
    "\n",
    "    g= df_all.loc[(pd.to_datetime(df_all[\"timestamp\"], unit=\"s\") >= y) & (pd.to_datetime(df_all[\"timestamp\"], unit=\"s\") < y+ relativedelta(years=1))]\n",
    "\n",
    "    num_user.append(len(g[\"user_id\"].unique()))\n",
    "    grp_user.append(list(g[\"user_id\"].unique()))\n",
    "\n",
    "    date_times.append(y)\n",
    "    x_labels.append(y.strftime('%Y')[-2:])\n",
    "    y += relativedelta(years=1)\n",
    "\n",
    "## Plot\n",
    "\n",
    "plt.rc('font',size=8)\n",
    "# plt.rc('text', usetex=True)\n",
    "plt.rc('xtick', labelsize=8)\n",
    "plt.rc('ytick', labelsize=8)\n",
    "plt.rc('axes', labelsize=8)\n",
    "\n",
    "fig, axes = plt.subplots(nrows=1, ncols=2, gridspec_kw={'width_ratios': [2.2, 1.9]})\n",
    "\n",
    "fig.subplots_adjust(left=.15, bottom=.05, right=.99, top=.97,wspace = 0.002)\n",
    "\n",
    "sns.violinplot(x='Year Range', y='K shell', data=df_set_swplt,\n",
    "                  color=\"white\", fontsize='x-small', ax=axes[0])\n",
    "axes[0].set_xlabel('')\n",
    "# axes[0].gcf().autofmt_xdate(rotation=45)\n",
    "axes[0].set_ylabel('K shell')\n",
    "axes[0].tick_params(axis='x', rotation=90)\n",
    "axes[0].ticklabel_format(axis='y', style='sci', scilimits=(2,2))\n",
    "\n",
    "\n",
    "axes[1].plot(date_times,num_user, \"bo\")\n",
    "axes[1].plot(date_times,num_user)\n",
    "\n",
    "axes[1].set_xticklabels(x_labels)\n",
    "axes[1].set_ylabel(\"Participants\")\n",
    "axes[1].tick_params(axis='x', rotation=90)\n",
    "axes[1].ticklabel_format(axis='y', style='sci', scilimits=(3,3))\n",
    "\n",
    "fig.text(0.57, 0.001, 'Cohorts', ha='center')\n",
    "fig.set_size_inches(plot_width, plot_height)\n",
    "plt.tight_layout()\n",
    "plt.show()"
   ]
  },
  {
   "cell_type": "code",
   "execution_count": 217,
   "metadata": {},
   "outputs": [],
   "source": [
    "fig.savefig('Plot_Wiki_Workshop/K_shell_and_Cohorts.pdf', dpi=150)"
   ]
  },
  {
   "cell_type": "code",
   "execution_count": 158,
   "metadata": {},
   "outputs": [],
   "source": [
    " \n"
   ]
  },
  {
   "cell_type": "code",
   "execution_count": null,
   "metadata": {},
   "outputs": [],
   "source": []
  },
  {
   "cell_type": "markdown",
   "metadata": {},
   "source": [
    "### Evolution of voting preference over time "
   ]
  },
  {
   "cell_type": "markdown",
   "metadata": {},
   "source": [
    "Figure 8. Evolution of voting preferences over time. The four shaded areas correspond to the 4 components of GMM fitted on voting trajectory deciles. The gray solid lines show the trajectories of a sample randomly-selected individuals. The black dashed lines correspond to the 95% confidence intervals of the average trajectory of each cluster."
   ]
  },
  {
   "cell_type": "code",
   "execution_count": 8,
   "metadata": {},
   "outputs": [
    {
     "name": "stderr",
     "output_type": "stream",
     "text": [
      "/Users/swadtasnim002/.local/share/virtualenvs/Signed_Network-zk5vZyNY/lib/python3.7/site-packages/ipykernel_launcher.py:17: FutureWarning: by argument to sort_index is deprecated, please use .sort_values(by=...)\n"
     ]
    },
    {
     "data": {
      "application/vnd.jupyter.widget-view+json": {
       "model_id": "4db4247dcd4d44399c428b8c55ecb785",
       "version_major": 2,
       "version_minor": 0
      },
      "text/plain": [
       "HBox(children=(FloatProgress(value=0.0, max=1186.0), HTML(value='')))"
      ]
     },
     "metadata": {},
     "output_type": "display_data"
    },
    {
     "name": "stdout",
     "output_type": "stream",
     "text": [
      "\n"
     ]
    },
    {
     "data": {
      "application/vnd.jupyter.widget-view+json": {
       "model_id": "d2183f34adff48adadf327f2b667b3b1",
       "version_major": 2,
       "version_minor": 0
      },
      "text/plain": [
       "HBox(children=(FloatProgress(value=0.0, max=8.0), HTML(value='')))"
      ]
     },
     "metadata": {},
     "output_type": "display_data"
    },
    {
     "name": "stdout",
     "output_type": "stream",
     "text": [
      "\n"
     ]
    },
    {
     "data": {
      "image/png": "[encoded data removed]",
      "text/plain": [
       "<Figure size 264.29x292.494 with 1 Axes>"
      ]
     },
     "metadata": {
      "needs_background": "light"
     },
     "output_type": "display_data"
    }
   ],
   "source": [
    "def PCA_processing(data):\n",
    "    pca = PCA()\n",
    "    principalComponents = pca.fit_transform(data)\n",
    "    principalDf = pd.DataFrame(data = principalComponents)\n",
    "    principalDf\n",
    "\n",
    "    return principalDf\n",
    "\n",
    "# Groups per shell is saved in file K_shell_group.json\n",
    "with open('Data_Wiki_Workshop/json_files/K_shell_group.json') as f:\n",
    "  k_shell_json = json.load(f)\n",
    "\n",
    "# Most active voters at the highest shell\n",
    "active_nodes=k_shell_json[list(k_shell_json.keys())[-1]]\n",
    "\n",
    "voters = pd.read_csv('csv_files/data_CMU/data_filtered_count_above_5.csv', index_col=False)\n",
    "active_voters= voters[voters['user_id'].isin(active_nodes)].sort_index(by=['user_id','timestamp'])\n",
    "\n",
    "\n",
    "\n",
    "#Calculate voting trajectory deciles\n",
    "groups=active_voters.groupby('user_id')\n",
    "df_data_vote_vs_ratio=[]\n",
    "for name, group in nb.tqdm(groups):\n",
    "\n",
    "    row = []\n",
    "    row.append(name)\n",
    "    for fr in range(1,11):\n",
    "        group_frac= group.iloc[0:int(len(group)*fr*.1)]\n",
    "        keep = len(group_frac.loc[group_frac['label']=='keep'])\n",
    "        delete = len(group_frac.loc[group_frac['label']=='delete'])\n",
    "        row.append(keep/(keep+delete))\n",
    "    df_data_vote_vs_ratio.append(row)\n",
    "data_v_r = pd.DataFrame(df_data_vote_vs_ratio,columns=[\"user_id\",\"10%\",\"20%\",\"30%\",\"40%\",\"50%\",\"60%\",\"70%\",\"80%\",\"90%\",\"100%\"])\n",
    "\n",
    "\n",
    "\n",
    "# Dimension reduction before clustering\n",
    "pca_data=PCA_processing(data_v_r[data_v_r.columns[1:]])\n",
    "pca_data.head()\n",
    "PCA1 = pca_data[pca_data.columns[:1]]\n",
    "\n",
    "\n",
    "\n",
    "\n",
    "#\n",
    "\n",
    "\n",
    "\n",
    "\n",
    "\n",
    "\n",
    "# Fitting GMM\n",
    "cls = GMM(n_components=4, max_iter=1000, n_init=10).fit(PCA1)\n",
    "data_v_r= data_v_r[data_v_r.columns[1:]]\n",
    "labels_ = cls.predict(PCA1)\n",
    "data_v_r['class']= labels_\n",
    "data_v_r\n",
    "\n",
    "#  BIC\n",
    "mm=10\n",
    "em_lb=[]\n",
    "model_save = ''\n",
    "for n in nb.tqdm(range(2,mm)):\n",
    "\n",
    "    models = GMM(n_components=n, max_iter=1000, n_init=10).fit(PCA1)\n",
    "    \n",
    "    \n",
    "    \n",
    "    em_lb.append(models.bic(PCA1))\n",
    "    \n",
    "\n",
    "    \n",
    "\n",
    "\n",
    "\n",
    "\n",
    "#Calcualte the confidence interval\n",
    "data_std=np.array(data_v_r.groupby('class').std())\n",
    "data_mean=np.array(data_v_r.groupby('class').mean())\n",
    "\n",
    "dd=data_v_r.groupby('class').count()\n",
    "data_sqrt=np.sqrt(np.array(dd))\n",
    "\n",
    "upperbound1=data_mean + 2.58*data_std/data_sqrt\n",
    "lowerbound1=data_mean - 2.58*data_std/data_sqrt\n",
    "\n",
    "upperbound = []\n",
    "lowerbound = []\n",
    "for a,b in data_v_r.groupby('class'):\n",
    "    upperbound.append(list(b.quantile(.1, axis = 0))[:-1])\n",
    "    lowerbound.append(list(b.quantile(.9, axis = 0))[:-1])\n",
    "\n",
    "   \n",
    "#Plot    \n",
    "plt.rc('font',size=10)\n",
    "# plt.rc('text', usetex=True)\n",
    "plt.rc('xtick', labelsize=10)\n",
    "plt.rc('ytick', labelsize=10)\n",
    "plt.rc('axes', labelsize=10)\n",
    "\n",
    "color_num1 = [\"#7b3294\",  \"#c2a5cf\", \"#a6dba0\",\"#008837\" ]   \n",
    "color_num = {0: \"#7b3294\", 1: \"#008837\", 2: \"#c2a5cf\", 3: \"#a6dba0\", 4:\"yellow\"}\n",
    "label_num = [\"Strong Deletionist\",\"Moderate Deletionist\", \"Moderate Inclusionist\", \"Strong Inclusionist\"]\n",
    "color_set = [color_num[num] for num in labels_]\n",
    "label_set = [label_num[num] for num in labels_]\n",
    "\n",
    "vote_percent = list(range(10,110,10))\n",
    "fig = plt.figure() \n",
    "fig.subplots_adjust(left=.05, bottom=.05, right=.1, top=.97,wspace = 0.002)\n",
    "\n",
    "r=rankdata(cls.means_)\n",
    "for iii,b in data_v_r.groupby('class'):\n",
    "\n",
    "    c=color_num1[int(r[iii])-1]\n",
    "    labl = label_num[int(r[iii])-1]\n",
    "\n",
    "    b= b.sample(frac=.075)\n",
    "\n",
    "    plt.fill_between(vote_percent,  lowerbound[iii],upperbound[iii], facecolor=c, alpha=.7, label=labl)\n",
    "    plt.plot(vote_percent,upperbound1[iii],c='black' ,linestyle = \"--\")\n",
    "    plt.plot(vote_percent,lowerbound1[iii],c='black',linestyle = \"--\" )\n",
    "    \n",
    "    for a,row in b.iterrows():\n",
    "        l1 = plt.plot(vote_percent,row[:10],c = 'black', alpha = .2 )   \n",
    "\n",
    "\n",
    "# plt.ylim(0,1.5)\n",
    "plt.legend(fontsize = 'x-small', frameon=False,bbox_to_anchor=(-0.12,.82,1.11,0.3), loc=\"upper left\", \n",
    "           mode='expand', ncol=2)\n",
    "plt.xlabel('Vote deciles')\n",
    "plt.ylabel('Probability of Keep')\n",
    "\n",
    "fig.set_size_inches(plot_width*1.1, plot_height+2)\n",
    "plt.tight_layout()\n",
    "plt.show()"
   ]
  },
  {
   "cell_type": "code",
   "execution_count": 619,
   "metadata": {},
   "outputs": [],
   "source": [
    "fig.savefig('Plot_Wiki_Workshop/Evolution_of_voting_preference.pdf', dpi=150)"
   ]
  },
  {
   "cell_type": "code",
   "execution_count": null,
   "metadata": {},
   "outputs": [],
   "source": []
  },
  {
   "cell_type": "code",
   "execution_count": null,
   "metadata": {},
   "outputs": [],
   "source": []
  },
  {
   "cell_type": "code",
   "execution_count": null,
   "metadata": {},
   "outputs": [],
   "source": []
  },
  {
   "cell_type": "markdown",
   "metadata": {},
   "source": [
    "### Outcome Prediction Model"
   ]
  },
  {
   "cell_type": "markdown",
   "metadata": {},
   "source": [
    "Figure 9. Average discussion outcome as a function of the observed (left) and predicted (right) rating."
   ]
  },
  {
   "cell_type": "code",
   "execution_count": 9,
   "metadata": {},
   "outputs": [
    {
     "name": "stderr",
     "output_type": "stream",
     "text": [
      "No handles with labels found to put in legend.\n",
      "/Users/swadtasnim002/.local/share/virtualenvs/Signed_Network-zk5vZyNY/lib/python3.7/site-packages/ipykernel_launcher.py:31: UserWarning: This figure includes Axes that are not compatible with tight_layout, so results might be incorrect.\n"
     ]
    },
    {
     "data": {
      "image/png": "[encoded data removed]",
      "text/plain": [
       "<Figure size 240.264x148.494 with 2 Axes>"
      ]
     },
     "metadata": {
      "needs_background": "light"
     },
     "output_type": "display_data"
    }
   ],
   "source": [
    "est_rate_res=pd.read_csv('Data_Wiki_Workshop/csv_files/Estimated_vs_Observed_Rating_Results', index_col=False)\n",
    "\n",
    "plt.rc('font',size=8)\n",
    "# plt.rc('text', usetex=True)\n",
    "plt.rc('xtick', labelsize=6)\n",
    "plt.rc('ytick', labelsize=8)\n",
    "plt.rc('axes', labelsize=7.5)\n",
    "fig, (ax1, ax2) = plt.subplots(1, 2, sharey=True,gridspec_kw={'hspace': 0, 'wspace': 0.10})\n",
    "fig.subplots_adjust(left=.18, bottom=.25, right=.99, top=.97)\n",
    "\n",
    "bins=np.round(np.linspace(-1,1, 10),1)\n",
    "bins2=np.round(np.linspace(-1,1, 10),1)\n",
    "\n",
    "ax1.plot(est_rate_res['interval_mid'],est_rate_res['average_outcome'],'bo',color='grey')\n",
    "ax1.plot(est_rate_res['interval_mid'],est_rate_res['average_outcome'],color='grey')\n",
    "ax1.errorbar(est_rate_res['interval_mid'],est_rate_res['average_outcome'], yerr=est_rate_res['std_outcome'],\n",
    "             linestyle='None', marker='None',color='grey')\n",
    "\n",
    "ax2.plot(est_rate_res['interval_mid2'],est_rate_res['average_outcome2'],'^',color='grey')\n",
    "ax2.plot(est_rate_res['interval_mid2'],est_rate_res['average_outcome2'],color='grey')\n",
    "ax2.errorbar(est_rate_res['interval_mid2'],est_rate_res['average_outcome2'], yerr=est_rate_res['std_outcome2'], \n",
    "             linestyle='None', marker='None',color='grey')\n",
    "\n",
    "plt.legend(fontsize = 'x-small', frameon=False)\n",
    "\n",
    "ax1.set(xlabel='Avg. Observed Rating', ylabel=\"Average Outcome\", xticks=bins)\n",
    "ax1.tick_params(axis='x', rotation=90)\n",
    "ax2.set(xlabel='Avg. Predicted Rating', xticks=bins2) \n",
    "ax2.tick_params(axis='x', rotation=90)\n",
    "fig.set_size_inches(plot_width, plot_height)\n",
    "plt.tight_layout()\n",
    "plt.show()\n"
   ]
  },
  {
   "cell_type": "code",
   "execution_count": 322,
   "metadata": {},
   "outputs": [],
   "source": [
    "fig.savefig('Plot_Wiki_Workshop/Average_discussion_outcome.pdf', dpi=150)"
   ]
  },
  {
   "cell_type": "code",
   "execution_count": null,
   "metadata": {},
   "outputs": [],
   "source": []
  },
  {
   "cell_type": "code",
   "execution_count": null,
   "metadata": {},
   "outputs": [],
   "source": []
  },
  {
   "cell_type": "markdown",
   "metadata": {},
   "source": [
    "Figure 10: Performance of the latent factor model for rating prediction, as a function of the binarization threshold. Precision and recall are weighted by the number of true instances for each label (positive and negative)"
   ]
  },
  {
   "cell_type": "code",
   "execution_count": 10,
   "metadata": {},
   "outputs": [
    {
     "data": {
      "image/png": "[encoded data removed]",
      "text/plain": [
       "<Figure size 240.264x148.494 with 1 Axes>"
      ]
     },
     "metadata": {
      "needs_background": "light"
     },
     "output_type": "display_data"
    }
   ],
   "source": [
    "all_result=pd.read_csv('Data_Wiki_Workshop/csv_files/Result_kfold.csv', index_col=False)\n",
    "\n",
    "res=all_result.sort_values(by='Outer_k_fold').groupby(['threshold',]).mean().reset_index()\n",
    "res\n",
    "\n",
    "plt.rc('font',size=8)\n",
    "plt.rc('xtick', labelsize=8)\n",
    "plt.rc('ytick', labelsize=8)\n",
    "plt.rc('axes', labelsize=8)\n",
    "fig = plt.figure()\n",
    "fig.subplots_adjust(left=.15, bottom=.16, right=.99, top=.97)\n",
    "\n",
    "plt.plot(res['threshold'],res['est_rate_acc'],label='Accuracy / Weighted Recall')\n",
    "plt.plot(res['threshold'],res['est_rate_w_precision'], label = \"Weighted Precision\")\n",
    "plt.plot(res['threshold'],res['est_rate_w_f1_score'], label = \"Weighted F1 Score\")\n",
    "\n",
    "plt.xlabel(\"Threshold\")\n",
    "plt.ylabel(\"Metric\")\n",
    "plt.legend(loc=\"lower right\")\n",
    "\n",
    "fig.set_size_inches(plot_width, plot_height)\n",
    "plt.tight_layout()\n",
    "plt.show()"
   ]
  },
  {
   "cell_type": "code",
   "execution_count": 8,
   "metadata": {},
   "outputs": [],
   "source": [
    "fig.savefig('Plot_Wiki_Workshop/Latent_Factor_Metric.pdf', dpi=150)"
   ]
  },
  {
   "cell_type": "code",
   "execution_count": null,
   "metadata": {},
   "outputs": [],
   "source": []
  },
  {
   "cell_type": "code",
   "execution_count": null,
   "metadata": {},
   "outputs": [],
   "source": []
  },
  {
   "cell_type": "markdown",
   "metadata": {},
   "source": [
    "Figure 11: Left: Performance of the outcome prediction model as a function of the binarization threshold. Precision and recall are weighted by the number of true instances for each label (positive and negative). The dashed lines (all overlapping) represent the metric of the observed ratings. Right:ROC curve of the stacked model for the outcome prediction task for different rating features (Pr. = predicted, Ob. = observed). The number in parenthesis is the AUC."
   ]
  },
  {
   "cell_type": "code",
   "execution_count": 11,
   "metadata": {},
   "outputs": [
    {
     "name": "stdout",
     "output_type": "stream",
     "text": [
      "dict_keys(['-1.0', '-0.8', '-0.6000000000000001', '-0.40000000000000013', '-0.20000000000000018', '-2.220446049250313e-16', '0.19999999999999973', '0.3999999999999997', '0.5999999999999996', '0.7999999999999996', '0.9999999999999996'])\n"
     ]
    },
    {
     "data": {
      "image/png": "[encoded data removed]",
      "text/plain": [
       "<Figure size 240.264x148.494 with 2 Axes>"
      ]
     },
     "metadata": {
      "needs_background": "light"
     },
     "output_type": "display_data"
    }
   ],
   "source": [
    "with open('Data_Wiki_Workshop/ROC_Est.pickle', 'rb') as handle:\n",
    "    roc_json2 = pickle.load(handle)\n",
    "print(roc_json2.keys())\n",
    "roc_json2['-0.40000000000000013']\n",
    "\n",
    "with open('Data_Wiki_Workshop/ROC_Ob.pickle', 'rb') as handle:\n",
    "    roc_json3 = pickle.load(handle)\n",
    "roc_json3.keys()\n",
    "\n",
    "plt.rc('font',size=8)\n",
    "plt.rc('xtick', labelsize=8)\n",
    "plt.rc('ytick', labelsize=8)\n",
    "plt.rc('axes', labelsize=8)\n",
    "\n",
    "fig, axes = plt.subplots(nrows=1, ncols=2)\n",
    "\n",
    "fig.subplots_adjust(left=.15, bottom=.05, right=.99, top=.97,wspace = 0.002)\n",
    "\n",
    "axes[0].axhline(res.iloc[0]['outcome_with_observed_rate_acc'], label='Acc. / W. Recall (Ob.)',\n",
    "                linestyle='--', color='black')\n",
    "axes[0].axhline(res.iloc[0]['outcome_with_observed_rate_w_precision'], label = \"W. Precision\",\n",
    "                linestyle='--', color='lightgrey')\n",
    "axes[0].axhline(res.iloc[0]['outcome_with_observed_rate_w_f1_score'], label = \"W. F1 Score\",\n",
    "                linestyle='--', color='darkgrey')\n",
    "\n",
    "axes[0].plot(res['threshold'],res['outcome_with_est_rate_acc'],label='Acc. / W. Recall', color='black')\n",
    "axes[0].plot(res['threshold'],res['outcome_with_est_rate_w_precision'], label = \"W. Precision\",\n",
    "             color='lightgrey')\n",
    "axes[0].plot(res['threshold'],res['outcome_with_est_rate_w_f1_score'], label = \"W. F1 Score\", color='darkgrey')\n",
    "y=axes[0].get_ylim()\n",
    "axes[0].set_ylim(y[0],y[1]+.025)\n",
    "axes[0].set_xlabel(\"Threshold\")\n",
    "axes[0].set_ylabel(\"Metric\")\n",
    "axes[0].legend(fontsize='xx-small', frameon=True, loc='center',handlelength=1, bbox_to_anchor=(.5,.6) )\n",
    "\n",
    "\n",
    "axes[1].plot([0, 1], [0, 1], linestyle='--', lw=2, color='black',\n",
    "        label='', alpha=.8)\n",
    "auc_est_list = all_result.groupby('threshold').std()['auc_est']\n",
    "auc_ob_list = all_result.groupby('threshold').std()['aucs_ob']\n",
    "mean_fpr = np.linspace(0, 1, 100)\n",
    "\n",
    "for tp,au in list(zip(list(roc_json2.keys()),auc_est_list)):\n",
    "    if float(tp) > -.6 and float(tp) < -.10:\n",
    "        tprs_est = roc_json2[tp]\n",
    "        mean_tpr = np.mean(tprs_est, axis=0)\n",
    "\n",
    "        mean_tpr[-1] = 1.0\n",
    "        mean_auc = auc(mean_fpr, mean_tpr)\n",
    "        std_auc = au\n",
    "        axes[1].plot(mean_fpr, mean_tpr,\n",
    "                label=r'Pr. $\\theta$ = %0.1f (%0.2f)' % (float(tp),mean_auc),\n",
    "                lw=2, alpha=.8)\n",
    "        \n",
    "tprs_est = roc_json3['-2.220446049250313e-16']\n",
    "mean_tpr = np.mean(tprs_est, axis=0)\n",
    "\n",
    "mean_tpr[-1] = 1.0\n",
    "mean_auc = auc(mean_fpr, mean_tpr)\n",
    "std_auc = list(auc_ob_list)[0]\n",
    "axes[1].plot(mean_fpr, mean_tpr,\n",
    "        label=r'Ob. (%0.2f)' % (mean_auc),\n",
    "        lw=2, alpha=.8)\n",
    "\n",
    "\n",
    "axes[1].set_xlabel(\"FPR\")\n",
    "axes[1].set_ylabel(\"TPR\")\n",
    "axes[1].legend(fontsize='xx-small', frameon=True, loc=\"lower right\", handlelength=1 )\n",
    "fig.set_size_inches(plot_width, plot_height)\n",
    "plt.tight_layout()\n",
    "plt.show()"
   ]
  },
  {
   "cell_type": "code",
   "execution_count": 21,
   "metadata": {},
   "outputs": [],
   "source": [
    "fig.savefig('Plot_Wiki_Workshop/Outcome_Prediction_Metric_ROC.pdf', dpi=150)"
   ]
  },
  {
   "cell_type": "code",
   "execution_count": null,
   "metadata": {},
   "outputs": [],
   "source": []
  }
 ],
 "metadata": {
  "kernelspec": {
   "display_name": "Python 3",
   "language": "python",
   "name": "python3"
  },
  "language_info": {
   "codemirror_mode": {
    "name": "ipython",
    "version": 3
   },
   "file_extension": ".py",
   "mimetype": "text/x-python",
   "name": "python",
   "nbconvert_exporter": "python",
   "pygments_lexer": "ipython3",
   "version": "3.7.5"
  }
 },
 "nbformat": 4,
 "nbformat_minor": 2
}
